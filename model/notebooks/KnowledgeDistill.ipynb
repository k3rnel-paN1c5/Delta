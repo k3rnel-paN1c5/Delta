{
  "cells": [
    {
      "cell_type": "markdown",
      "metadata": {
        "id": "TyGMHOlmcn44"
      },
      "source": [
        "# Set Up the Environment"
      ]
    },
    {
      "cell_type": "markdown",
      "metadata": {
        "id": "c_qiw0OFcn45"
      },
      "source": [
        "### Importing Libraries"
      ]
    },
    {
      "cell_type": "code",
      "execution_count": null,
      "metadata": {
        "id": "GGJvhgmFcn45"
      },
      "outputs": [],
      "source": [
        "\n",
        "%pip install torchmetrics\n",
        "import torch\n",
        "import torch.nn as nn\n",
        "import torch.optim as optim\n",
        "import torch.nn.functional as F\n",
        "from torch.utils.data import Dataset, DataLoader, random_split\n",
        "from datasets import load_dataset\n",
        "import torchvision\n",
        "from torchvision import transforms\n",
        "from torchmetrics.image import StructuralSimilarityIndexMeasure\n",
        "from transformers import AutoModelForDepthEstimation\n",
        "from torchvision.models import mobilenet_v3_large, MobileNet_V3_Large_Weights\n",
        "import time\n",
        "import PIL\n",
        "from PIL import Image\n",
        "import requests\n",
        "import cv2\n",
        "import matplotlib.pyplot as plt\n",
        "import numpy as np\n",
        "import os\n",
        "from torch.optim.lr_scheduler import StepLR\n",
        "from tqdm import tqdm"
      ]
    },
    {
      "cell_type": "markdown",
      "metadata": {
        "id": "NApJ34BGcn46"
      },
      "source": [
        "### Mount Drive"
      ]
    },
    {
      "cell_type": "code",
      "execution_count": 2,
      "metadata": {
        "colab": {
          "base_uri": "https://localhost:8080/"
        },
        "id": "rGrlxY9acn46",
        "outputId": "ef049905-8d65-4826-ed89-f605b1fb126d"
      },
      "outputs": [
        {
          "output_type": "stream",
          "name": "stdout",
          "text": [
            "Drive already mounted at /content/drive; to attempt to forcibly remount, call drive.mount(\"/content/drive\", force_remount=True).\n"
          ]
        }
      ],
      "source": [
        "from google.colab import drive\n",
        "\n",
        "drive.mount('/content/drive')\n",
        "\n"
      ]
    },
    {
      "cell_type": "markdown",
      "metadata": {
        "id": "F8jY_Bm7cn47"
      },
      "source": [
        "# Define Needed Classes & Functions"
      ]
    },
    {
      "cell_type": "markdown",
      "metadata": {
        "id": "Sc1d8UG8cn47"
      },
      "source": [
        "### Class for Depth Model"
      ]
    },
    {
      "cell_type": "code",
      "execution_count": 3,
      "metadata": {
        "id": "wIk0b5Lacn47"
      },
      "outputs": [],
      "source": [
        "class DepthModel(nn.Module):\n",
        "    \"\"\"\n",
        "    Wrapper class for the Depth-Anything model.\n",
        "    \"\"\"\n",
        "    def __init__(self, mod):\n",
        "        super().__init__()\n",
        "        self.model = mod\n",
        "        self.eval()\n",
        "\n",
        "    def forward(self, x):\n",
        "        original_size = x.shape[2:]\n",
        "        outputs = self.model(x)\n",
        "        predicted_depth = outputs.predicted_depth\n",
        "        predicted_depth = F.interpolate(predicted_depth.unsqueeze(1), size=original_size, mode='bilinear', align_corners=False)\n",
        "        return predicted_depth"
      ]
    },
    {
      "cell_type": "markdown",
      "metadata": {
        "id": "bXaB_pbccn47"
      },
      "source": [
        "### Class for Student Model"
      ]
    },
    {
      "cell_type": "code",
      "execution_count": 4,
      "metadata": {
        "id": "Wj5EFLlvcn47"
      },
      "outputs": [],
      "source": [
        "class StudentModel(nn.Module):\n",
        "    \"\"\"\n",
        "    Student model with MobileNetV3 encoder and a custom decoder.\n",
        "    Designed for real-time inference on edge devices.\n",
        "    \"\"\"\n",
        "    def __init__(self, output_channels=1):\n",
        "        super(StudentModel, self).__init__()\n",
        "        # Load MobileNetV3 Large features as the encoder\n",
        "        self.encoder = mobilenet_v3_large(weights=MobileNet_V3_Large_Weights.DEFAULT).features\n",
        "\n",
        "        # Freeze encoder parameters\n",
        "        for param in self.encoder.parameters():\n",
        "            param.requires_grad = False\n",
        "\n",
        "        # --- Enhancement: 1x1 Convolutions for Skip Connections ---\n",
        "        # These layers refine the features from the encoder before fusion.\n",
        "        # Channel dimensions correspond to MobileNetV3 skip connection outputs.\n",
        "        self.skip_s4_conv = nn.Sequential(\n",
        "            nn.Conv2d(24, 24, kernel_size=1, bias=False),\n",
        "            nn.BatchNorm2d(24),\n",
        "            nn.ReLU(inplace=True)\n",
        "        )\n",
        "        self.skip_s8_conv = nn.Sequential(\n",
        "            nn.Conv2d(40, 40, kernel_size=1, bias=False),\n",
        "            nn.BatchNorm2d(40),\n",
        "            nn.ReLU(inplace=True)\n",
        "        )\n",
        "        self.skip_s16_conv = nn.Sequential(\n",
        "            nn.Conv2d(80, 80, kernel_size=1, bias=False),\n",
        "            nn.BatchNorm2d(80),\n",
        "            nn.ReLU(inplace=True)\n",
        "        )\n",
        "        self.skip_s32_conv = nn.Sequential(\n",
        "            nn.Conv2d(112, 112, kernel_size=1, bias=False),\n",
        "            nn.BatchNorm2d(112),\n",
        "            nn.ReLU(inplace=True)\n",
        "        )\n",
        "\n",
        "        # Decoder blocks (input channels remain the same as the 1x1 convs don't change channel dims)\n",
        "        self.decoder_block1 = nn.Sequential(\n",
        "            nn.Conv2d(960 + 112, 512, kernel_size=3, padding=1, bias=False),\n",
        "            nn.BatchNorm2d(512),\n",
        "            nn.ReLU(inplace=True),\n",
        "            nn.Upsample(scale_factor=2, mode='bilinear', align_corners=True)\n",
        "        )\n",
        "        self.decoder_block2 = nn.Sequential(\n",
        "            nn.Conv2d(512 + 80, 256, kernel_size=3, padding=1, bias=False),\n",
        "            nn.BatchNorm2d(256),\n",
        "            nn.ReLU(inplace=True),\n",
        "            nn.Upsample(scale_factor=2, mode='bilinear', align_corners=True)\n",
        "        )\n",
        "        self.decoder_block3 = nn.Sequential(\n",
        "            nn.Conv2d(256 + 40, 128, kernel_size=3, padding=1, bias=False),\n",
        "            nn.BatchNorm2d(128),\n",
        "            nn.ReLU(inplace=True),\n",
        "            nn.Upsample(scale_factor=2, mode='bilinear', align_corners=True)\n",
        "        )\n",
        "        self.decoder_block4 = nn.Sequential(\n",
        "            nn.Conv2d(128 + 24, 64, kernel_size=3, padding=1, bias=False),\n",
        "            nn.BatchNorm2d(64),\n",
        "            nn.ReLU(inplace=True),\n",
        "            nn.Upsample(scale_factor=2, mode='bilinear', align_corners=True)\n",
        "        )\n",
        "\n",
        "        self.final_conv = nn.Conv2d(64, output_channels, kernel_size=1)\n",
        "        self.final_activation = nn.ReLU()\n",
        "\n",
        "    def forward(self, x):\n",
        "        input_shape = x.shape[2:]\n",
        "        skip_features = {}\n",
        "\n",
        "        # --- Encoder Path & Feature Extraction ---\n",
        "        # Iterate through encoder layers to get skip connections\n",
        "        # Apply 1x1 convs immediately after extraction.\n",
        "        for i, layer in enumerate(self.encoder):\n",
        "            x = layer(x)\n",
        "            if i == 2:  # s4 (H/4, W/4 resolution, 24 channels)\n",
        "                skip_features['s4'] = self.skip_s4_conv(x)\n",
        "            elif i == 4:  # s8 (H/8, W/8 resolution, 40 channels)\n",
        "                skip_features['s8'] = self.skip_s8_conv(x)\n",
        "            elif i == 7:  # s16 (H/16, W/16 resolution, 80 channels)\n",
        "                skip_features['s16'] = self.skip_s16_conv(x)\n",
        "            elif i == 11:  # s32 (H/16, W/16 resolution, 112 channels)\n",
        "                skip_features['s32'] = self.skip_s32_conv(x)\n",
        "\n",
        "        # Ensure s32 matches the spatial dimension of the encoder's final output\n",
        "        if skip_features['s32'].shape[2:] != x.shape[2:]:\n",
        "            skip_features['s32'] = F.interpolate(skip_features['s32'], size=x.shape[2:], mode='bilinear', align_corners=False)\n",
        "\n",
        "        # --- Decoder Path with Enhanced Skip Connections ---\n",
        "        # Concatenate final encoder output (x) with the refined s32 skip connection\n",
        "        x = torch.cat([x, skip_features['s32']], dim=1)\n",
        "        x = self.decoder_block1(x)\n",
        "\n",
        "        # Concatenate with refined s16\n",
        "        # Ensure spatial dimensions match before concatenation\n",
        "        if skip_features['s16'].shape[2:] != x.shape[2:]:\n",
        "             skip_features['s16'] = F.interpolate(skip_features['s16'], size=x.shape[2:], mode='bilinear', align_corners=False)\n",
        "        x = torch.cat([x, skip_features['s16']], dim=1)\n",
        "        x = self.decoder_block2(x)\n",
        "\n",
        "        # Concatenate with refined s8\n",
        "        # Ensure spatial dimensions match before concatenation\n",
        "        if skip_features['s8'].shape[2:] != x.shape[2:]:\n",
        "             skip_features['s8'] = F.interpolate(skip_features['s8'], size=x.shape[2:], mode='bilinear', align_corners=False)\n",
        "        x = torch.cat([x, skip_features['s8']], dim=1)\n",
        "        x = self.decoder_block3(x)\n",
        "\n",
        "        # Concatenate with refined s4\n",
        "        # Ensure spatial dimensions match before concatenation\n",
        "        if skip_features['s4'].shape[2:] != x.shape[2:]:\n",
        "             skip_features['s4'] = F.interpolate(skip_features['s4'], size=x.shape[2:], mode='bilinear', align_corners=False)\n",
        "        x = torch.cat([x, skip_features['s4']], dim=1)\n",
        "        x = self.decoder_block4(x)\n",
        "\n",
        "        # Final layers\n",
        "        x = self.final_conv(x)\n",
        "        x = F.interpolate(x, size=input_shape, mode='bilinear', align_corners=False)\n",
        "        x = self.final_activation(x)\n",
        "\n",
        "        return x"
      ]
    },
    {
      "cell_type": "markdown",
      "metadata": {
        "id": "_lkOeLN0cn48"
      },
      "source": [
        "### Class for Dataset Loading & Preprocessing"
      ]
    },
    {
      "cell_type": "code",
      "execution_count": 16,
      "metadata": {
        "id": "Hhnb7LMIcn48"
      },
      "outputs": [],
      "source": [
        "class UnlabeledImageDataset(Dataset):\n",
        "    \"\"\"\n",
        "    Custom dataset for unlabeled images.\n",
        "    \"\"\"\n",
        "    def __init__(self, root_dir, transform=None, resize_size=None):\n",
        "        self.root_dir = root_dir\n",
        "        self.transform = transform\n",
        "        self.image_paths = [os.path.join(root_dir, f) for f in os.listdir(root_dir) if f.endswith(('png', 'jpg', 'JPG'))]\n",
        "        self.resize_size = resize_size\n",
        "        print(f\"Found {len(self.image_paths)} images in {root_dir}\")\n",
        "\n",
        "    def __len__(self):\n",
        "        return len(self.image_paths)\n",
        "\n",
        "    def __getitem__(self, idx):\n",
        "        img_path = self.image_paths[idx]\n",
        "        image = Image.open(img_path).convert('RGB')\n",
        "\n",
        "        if self.resize_size:\n",
        "            image = image.resize(self.resize_size)\n",
        "\n",
        "        if self.transform:\n",
        "            image = self.transform(image)\n",
        "\n",
        "\n",
        "        return image"
      ]
    },
    {
      "cell_type": "markdown",
      "metadata": {
        "id": "E3VN8bg9cn49"
      },
      "source": [
        "### Distillation Loss"
      ]
    },
    {
      "cell_type": "code",
      "execution_count": 6,
      "metadata": {
        "id": "zeF2_-RXcn49"
      },
      "outputs": [],
      "source": [
        "class DepthCombinedDistillationLoss(nn.Module):\n",
        "    \"\"\"\n",
        "    Custom loss function for depth distillation.\n",
        "    Using Pixel wise MSE Loss, SSIM, Gradient MAE Loss, and Scale-Invariant MSE Loss.\n",
        "    \"\"\"\n",
        "    def __init__(self, lambda_depth=1.0, lambda_si=1.0, lambda_grad=1.0, lambda_ssim=1.0, lambda_smooth=0.2, window_size=11):\n",
        "        super().__init__()\n",
        "        self.lambda_depth = lambda_depth   # Weight for depth map MSE loss\n",
        "        self.lambda_si = lambda_si         # Weight for Scale-Invariant MSE loss\n",
        "        self.lambda_grad = lambda_grad     # Weight for Gradient loss\n",
        "        self.lambda_ssim = lambda_ssim     # Weight for SSIM loss\n",
        "        self.lambda_smooth = lambda_smooth # Weight for smoothness regularizer\n",
        "\n",
        "        self.mse_depth_loss = nn.MSELoss()  # Mean Squared Error for depth maps\n",
        "        self.l1_loss = nn.L1Loss()          # L1 Loss for gradients\n",
        "\n",
        "        # Initialize the SSIM calculation from torchmetrics\n",
        "        if self.lambda_ssim > 0:\n",
        "            self.ssim = StructuralSimilarityIndexMeasure(data_range=1.0, kernel_size=window_size)\n",
        "\n",
        "    def forward(self, student_outputs, teacher_outputs):\n",
        "        student_depth = student_outputs\n",
        "        teacher_depth = teacher_outputs\n",
        "\n",
        "        # Ensure tensors have a batch dimension\n",
        "        if student_depth.dim() == 3:\n",
        "            student_depth = student_depth.unsqueeze(0)\n",
        "        if teacher_depth.dim() == 3:\n",
        "            teacher_depth = teacher_depth.unsqueeze(0)\n",
        "\n",
        "        # Ensure tensors have a channel dimension for SSIM\n",
        "        if student_depth.dim() == 3: # Assuming (Batch, Height, Width)\n",
        "            student_depth = student_depth.unsqueeze(1) # Becomes (Batch, Channel, Height, Width)\n",
        "        if teacher_depth.dim() == 3: # Assuming (Batch, Height, Width)\n",
        "            teacher_depth = teacher_depth.unsqueeze(1) # Becomes (Batch, Channel, Height, Width)\n",
        "\n",
        "\n",
        "        total_loss = torch.tensor(0.0, device=student_depth.device)\n",
        "\n",
        "        # 1. MSE Depth Loss\n",
        "        if self.lambda_depth > 0:\n",
        "            loss_depth = self.mse_depth_loss(student_depth, teacher_depth)\n",
        "            total_loss += self.lambda_depth * loss_depth\n",
        "\n",
        "        # 2. Scale-Invariant MSE Loss\n",
        "        if self.lambda_si > 0:\n",
        "            diff = student_depth - teacher_depth\n",
        "            loss_si = torch.mean(diff**2) - torch.mean(diff)**2\n",
        "            total_loss += self.lambda_si * loss_si\n",
        "\n",
        "        # 3. Gradient Loss (using L1 on gradients)\n",
        "        if self.lambda_grad > 0:\n",
        "            student_grad_x = torch.abs(student_depth[:, :, :, :-1] - student_depth[:, :, :, 1:])\n",
        "            student_grad_y = torch.abs(student_depth[:, :, :-1, :] - student_depth[:, :, 1:, :])\n",
        "            teacher_grad_x = torch.abs(teacher_depth[:, :, :, :-1] - teacher_depth[:, :, :, 1:])\n",
        "            teacher_grad_y = torch.abs(teacher_depth[:, :, :-1, :] - teacher_depth[:, :, 1:, :])\n",
        "\n",
        "            loss_grad = self.l1_loss(student_grad_x, teacher_grad_x) + self.l1_loss(student_grad_y, teacher_grad_y)\n",
        "            total_loss += self.lambda_grad * loss_grad\n",
        "\n",
        "        # 4.Smoothness Loss (Regularizer)\n",
        "        if self.lambda_smooth > 0:\n",
        "            # Penalizes the L1 norm of the student's depth gradients\n",
        "            loss_smooth = torch.mean(student_grad_x) + torch.mean(student_grad_y)\n",
        "            total_loss += self.lambda_smooth * loss_smooth\n",
        "\n",
        "        # 5. SSIM Loss\n",
        "        if self.lambda_ssim > 0:\n",
        "            # Move ssim module to the same device as the tensors\n",
        "            self.ssim.to(student_depth.device)\n",
        "\n",
        "            # The torchmetrics SSIM implementation returns a value between -1 and 1.\n",
        "            # A value of 1 indicates perfect similarity.\n",
        "            # To use it as a loss, we subtract it from 1.\n",
        "            d_ssim = self.ssim(student_depth, teacher_depth)\n",
        "            loss_ssim = (1 - d_ssim) / 2 # Normalize to be between 0 and 1\n",
        "            total_loss += self.lambda_ssim * loss_ssim\n",
        "\n",
        "        return total_loss"
      ]
    },
    {
      "cell_type": "markdown",
      "metadata": {
        "id": "XWRan4mAcn49"
      },
      "source": [
        "### The Training Function"
      ]
    },
    {
      "cell_type": "code",
      "execution_count": 7,
      "metadata": {
        "id": "bD3PQDgzcn49"
      },
      "outputs": [],
      "source": [
        "def train_knowledge_distillation(teacher, student, train_dataloader, val_dataloader, criterion, optimizer, epochs, device):\n",
        "    \"\"\"\n",
        "    Train the student model using Response-Based knowledge distillation.\n",
        "    \"\"\"\n",
        "    teacher.eval() # Teacher should always be in evaluation mode\n",
        "\n",
        "    print(f\"Starting Knowledge Distillation Training on {device}...\")\n",
        "    min_loss = float('inf')\n",
        "    for epoch in range(epochs):\n",
        "        student.train() # Student in training mode\n",
        "        running_loss = 0.0\n",
        "        progress_bar = tqdm(train_dataloader, desc=f\"Epoch {epoch+1}/{num_epochs}\")\n",
        "        start_time = time.time()\n",
        "\n",
        "        for images in progress_bar:\n",
        "            images = images.to(device)\n",
        "            optimizer.zero_grad()\n",
        "\n",
        "            # Forward pass with Teacher model (no_grad as teacher is fixed)\n",
        "            with torch.no_grad():\n",
        "                teacher_outputs = teacher(images) # Returns depth map\n",
        "\n",
        "            # Forward pass with Student model\n",
        "            student_outputs = student(images) # Returns depth map\n",
        "\n",
        "            # Calculate distillation loss\n",
        "            loss = criterion(student_outputs, teacher_outputs)\n",
        "            loss.backward()\n",
        "            optimizer.step()\n",
        "            running_loss += loss.item()\n",
        "\n",
        "\n",
        "        epoch_loss = running_loss / len(train_dataloader)\n",
        "        current_lr = scheduler.get_last_lr()[0]\n",
        "        end_time = time.time()\n",
        "        print(f\"End of Epoch {epoch+1},Time: {end_time - start_time:.2f}s, Current LR: {current_lr:.6f}, Average Loss: {epoch_loss:.4f}\")\n",
        "        scheduler.step()\n",
        "\n",
        "        # Validation loop\n",
        "        student.eval() # Student in evaluation mode for validation\n",
        "        val_running_loss = 0.0\n",
        "        with torch.no_grad():\n",
        "            progress_bar_val = tqdm(val_dataloader, desc=f\"Epoch {epoch+1}/{epochs} [Validation]\")\n",
        "            for val_images in progress_bar_val:\n",
        "                val_images = val_images.to(device)\n",
        "                teacher_outputs = teacher(val_images)\n",
        "                student_outputs = student(val_images)\n",
        "                val_loss = criterion(student_outputs, teacher_outputs)\n",
        "                val_running_loss += val_loss.item()\n",
        "\n",
        "        val_epoch_loss = val_running_loss / len(val_dataloader)\n",
        "        print(f\"Average Validation Loss: {val_epoch_loss:.4f}\")\n",
        "\n",
        "        if val_epoch_loss < min_loss:\n",
        "            min_loss = val_epoch_loss\n",
        "            print(\"Validation loss improved. Saving the model.\")\n",
        "            torch.save(student.state_dict(), f\"/content/drive/MyDrive/best_student.pth\")\n",
        "\n",
        "    print(\"Knowledge Distillation Training Finished!\")"
      ]
    },
    {
      "cell_type": "markdown",
      "metadata": {
        "id": "cHEBuhkecn4-"
      },
      "source": [
        "# Training Process"
      ]
    },
    {
      "cell_type": "markdown",
      "metadata": {
        "id": "GVeFp_bbcn4-"
      },
      "source": [
        "### Define Parameters & Models"
      ]
    },
    {
      "cell_type": "code",
      "execution_count": 23,
      "metadata": {
        "colab": {
          "base_uri": "https://localhost:8080/"
        },
        "id": "7KqNrdI-cn4-",
        "outputId": "c396cc9d-57a1-487f-eda0-75fbed99a8d0"
      },
      "outputs": [
        {
          "output_type": "stream",
          "name": "stdout",
          "text": [
            "Using device: cuda\n",
            "Found 152 images in /content/drive/MyDrive/images/\n",
            "Training set size: 106\n",
            "Validation set size: 46\n"
          ]
        }
      ],
      "source": [
        "device = torch.device(\"cuda\" if torch.cuda.is_available() else \"cpu\")\n",
        "print(f\"Using device: {device}\")\n",
        "\n",
        "# Load teacher model\n",
        "teacher = AutoModelForDepthEstimation.from_pretrained(\"depth-anything/Depth-Anything-V2-Large-hf\").to(device)\n",
        "\n",
        "\n",
        "teacher_model = DepthModel(teacher).to(device)\n",
        "\n",
        "# student  model architecture\n",
        "student_model = StudentModel().to(device)\n",
        "\n",
        "######################################################\n",
        "# Load the entire model object from the checkpoint\n",
        "# student_model = torch.load('/content/drive/MyDrive/distillSkip1700.pth', weights_only=False).to(device)\n",
        "\n",
        "###########################\n",
        "# Initialize optimizer for the student model\n",
        "# student_optimizer = optim.Adam(student_model.parameters(), lr=1e-4)\n",
        "student_optimizer = optim.AdamW(student_model.parameters(), lr=1e-3, weight_decay=1e-3)\n",
        "\n",
        "# Training parameters\n",
        "num_epochs = 60\n",
        "# scheduler = CosineAnnealingLR(student_optimizer, T_max=num_epochs, eta_min=1e-5ss)\n",
        "scheduler = StepLR(student_optimizer, step_size=20, gamma=0.1)\n",
        "# Distillation Loss\n",
        "# Instantiate the custom loss function\n",
        "distillation_criterion = DepthCombinedDistillationLoss(lambda_depth=0.5,  lambda_si=1.0, lambda_grad=1.0, lambda_ssim=1.0, window_size=11)\n",
        "\n",
        "# transformations for input images (teacher and student will use the same)\n",
        "\n",
        "input_size = (384, 384)\n",
        "\n",
        "transform = transforms.Compose([\n",
        "    transforms.RandomHorizontalFlip(p=0.5),\n",
        "    transforms.RandomRotation(degrees=10),\n",
        "    transforms.ColorJitter(brightness=0.2, contrast=0.2, saturation=0.2, hue=0.1),\n",
        "    transforms.ToTensor(),\n",
        "    transforms.Normalize(mean=[0.485, 0.456, 0.406], std=[0.229, 0.224, 0.225])\n",
        "])\n",
        "\n",
        "eval_transform = transforms.Compose([\n",
        "    transforms.ToTensor(),\n",
        "    transforms.Normalize(mean=[0.485, 0.456, 0.406], std=[0.229, 0.224, 0.225])\n",
        "])\n",
        "\n",
        "# Specify the path to your unlabeled data in Google Drive\n",
        "unlabeled_data_path = '/content/drive/MyDrive/images/'\n",
        "\n",
        "# Create dataset and data loader\n",
        "unlabeled_dataset = UnlabeledImageDataset(root_dir=unlabeled_data_path, transform=transform, resize_size=input_size)\n",
        "\n",
        "dataset_size = len(unlabeled_dataset)\n",
        "train_size = int(0.7 * dataset_size)\n",
        "val_size = dataset_size - train_size\n",
        "# Split the dataset\n",
        "train_dataset, val_dataset = torch.utils.data.random_split(unlabeled_dataset, [train_size, val_size])\n",
        "# Create separate dataloaders for training and validation\n",
        "train_dataloader = DataLoader(train_dataset, batch_size=10, shuffle=True, num_workers=2)\n",
        "val_dataloader = DataLoader(val_dataset, batch_size=4, shuffle=False, num_workers=2)\n",
        "\n",
        "print(f\"Training set size: {len(train_dataset)}\")\n",
        "print(f\"Validation set size: {len(val_dataset)}\")"
      ]
    },
    {
      "cell_type": "markdown",
      "metadata": {
        "id": "i-nlRRvIcn4-"
      },
      "source": [
        "Before Training"
      ]
    },
    {
      "cell_type": "code",
      "execution_count": 24,
      "metadata": {
        "id": "S2GeOwDdcn4_"
      },
      "outputs": [],
      "source": [
        "# Load train image\n",
        "image_path = \"/content/drive/MyDrive/images/image1.JPG\"\n",
        "train_image = cv2.imread(image_path)\n",
        "train_image = cv2.cvtColor(train_image, cv2.COLOR_BGR2RGB)  # Convert to RGB\n",
        "\n",
        "train_input_tensor = eval_transform(Image.fromarray(train_image)).unsqueeze(0).to(device)\n",
        "# Load image\n",
        "image_path = \"/content/test.jpg\"\n",
        "image = cv2.imread(image_path)\n",
        "image = cv2.cvtColor(image, cv2.COLOR_BGR2RGB)  # Convert to RGB\n",
        "\n",
        "input_tensor = eval_transform(Image.fromarray(image)).unsqueeze(0).to(device)\n",
        "\n",
        "student_model.eval() # Use the DepthModel instance\n",
        "\n",
        "\n",
        "with torch.no_grad():\n",
        "    # Student prediction (before training) using the DepthModel instance\n",
        "    student_depth_before = student_model(input_tensor)\n",
        "    student_depth_before_training = student_depth_before.squeeze().cpu().numpy()\n",
        "    student_depth_before = student_model(train_input_tensor)\n",
        "    student_depth_before_training_train_image = student_depth_before.squeeze().cpu().numpy()\n"
      ]
    },
    {
      "cell_type": "markdown",
      "metadata": {
        "id": "c9HGUOYgcn4_"
      },
      "source": [
        "### Freeze Student's Encoder"
      ]
    },
    {
      "cell_type": "code",
      "execution_count": 21,
      "metadata": {
        "colab": {
          "base_uri": "https://localhost:8080/"
        },
        "id": "miQIJH_Hcn4_",
        "outputId": "96562296-b9dc-4105-b9dd-011e8ef70ad8"
      },
      "outputs": [
        {
          "output_type": "stream",
          "name": "stdout",
          "text": [
            "All parameters in student_model:\n",
            "  skip_s4_conv.0.weight\n",
            "  skip_s4_conv.1.weight\n",
            "  skip_s4_conv.1.bias\n",
            "  skip_s8_conv.0.weight\n",
            "  skip_s8_conv.1.weight\n",
            "  skip_s8_conv.1.bias\n",
            "  skip_s16_conv.0.weight\n",
            "  skip_s16_conv.1.weight\n",
            "  skip_s16_conv.1.bias\n",
            "  skip_s32_conv.0.weight\n",
            "  skip_s32_conv.1.weight\n",
            "  skip_s32_conv.1.bias\n",
            "  decoder_block1.0.weight\n",
            "  decoder_block1.1.weight\n",
            "  decoder_block1.1.bias\n",
            "  decoder_block2.0.weight\n",
            "  decoder_block2.1.weight\n",
            "  decoder_block2.1.bias\n",
            "  decoder_block3.0.weight\n",
            "  decoder_block3.1.weight\n",
            "  decoder_block3.1.bias\n",
            "  decoder_block4.0.weight\n",
            "  decoder_block4.1.weight\n",
            "  decoder_block4.1.bias\n",
            "  final_conv.weight\n",
            "  final_conv.bias\n"
          ]
        }
      ],
      "source": [
        "# --- Verify which layers are trainable ---\n",
        "print(\"All parameters in student_model:\")\n",
        "for name, param in student_model.named_parameters():\n",
        "    if param.requires_grad:\n",
        "        print(f\"  {name}\")\n",
        "\n",
        "# print(\"----------------------------------------\")\n",
        "# for name, param in student_model.named_parameters():\n",
        "#     param.requires_grad = False\n",
        "\n",
        "# # Unfreeze parameters in the 'head' layer\n",
        "# for name, param in student_model.decoder.named_parameters():\n",
        "#     param.requires_grad = True\n",
        "\n",
        "# # --- Verify which layers are trainable ---\n",
        "# print(\"Trainable parameters in student_model:\")\n",
        "# for name, param in student_model.named_parameters():\n",
        "#     if param.requires_grad:\n",
        "#         print(f\"  {name}\")\n"
      ]
    },
    {
      "cell_type": "markdown",
      "metadata": {
        "id": "kjR3HfBKcn4_"
      },
      "source": [
        "### Run the Training"
      ]
    },
    {
      "cell_type": "code",
      "execution_count": null,
      "metadata": {
        "colab": {
          "base_uri": "https://localhost:8080/"
        },
        "id": "3M6DMTiucn4_",
        "outputId": "ceb3d9cd-0238-4398-9412-07b9e939ac67"
      },
      "outputs": [
        {
          "output_type": "stream",
          "name": "stdout",
          "text": [
            "Starting Knowledge Distillation Training on cuda...\n"
          ]
        },
        {
          "output_type": "stream",
          "name": "stderr",
          "text": [
            "Epoch 1/60: 100%|██████████| 11/11 [00:36<00:00,  3.34s/it]\n"
          ]
        },
        {
          "output_type": "stream",
          "name": "stdout",
          "text": [
            "End of Epoch 1,Time: 36.78s, Current LR: 0.001000, Average Loss: 24463.1326\n"
          ]
        },
        {
          "output_type": "stream",
          "name": "stderr",
          "text": [
            "Epoch 1/60 [Validation]: 100%|██████████| 12/12 [00:16<00:00,  1.38s/it]\n"
          ]
        },
        {
          "output_type": "stream",
          "name": "stdout",
          "text": [
            "Average Validation Loss: 18808.2149\n",
            "Validation loss improved. Saving the model.\n"
          ]
        },
        {
          "output_type": "stream",
          "name": "stderr",
          "text": [
            "Epoch 2/60: 100%|██████████| 11/11 [00:34<00:00,  3.14s/it]\n"
          ]
        },
        {
          "output_type": "stream",
          "name": "stdout",
          "text": [
            "End of Epoch 2,Time: 34.51s, Current LR: 0.001000, Average Loss: 24694.9606\n"
          ]
        },
        {
          "output_type": "stream",
          "name": "stderr",
          "text": [
            "Epoch 2/60 [Validation]: 100%|██████████| 12/12 [00:16<00:00,  1.36s/it]\n"
          ]
        },
        {
          "output_type": "stream",
          "name": "stdout",
          "text": [
            "Average Validation Loss: 20035.3724\n"
          ]
        },
        {
          "output_type": "stream",
          "name": "stderr",
          "text": [
            "Epoch 3/60: 100%|██████████| 11/11 [00:33<00:00,  3.05s/it]\n"
          ]
        },
        {
          "output_type": "stream",
          "name": "stdout",
          "text": [
            "End of Epoch 3,Time: 33.59s, Current LR: 0.001000, Average Loss: 24025.5257\n"
          ]
        },
        {
          "output_type": "stream",
          "name": "stderr",
          "text": [
            "Epoch 3/60 [Validation]: 100%|██████████| 12/12 [00:16<00:00,  1.35s/it]\n"
          ]
        },
        {
          "output_type": "stream",
          "name": "stdout",
          "text": [
            "Average Validation Loss: 20200.0467\n"
          ]
        },
        {
          "output_type": "stream",
          "name": "stderr",
          "text": [
            "Epoch 4/60: 100%|██████████| 11/11 [00:34<00:00,  3.15s/it]\n"
          ]
        },
        {
          "output_type": "stream",
          "name": "stdout",
          "text": [
            "End of Epoch 4,Time: 34.69s, Current LR: 0.001000, Average Loss: 23803.8210\n"
          ]
        },
        {
          "output_type": "stream",
          "name": "stderr",
          "text": [
            "Epoch 4/60 [Validation]: 100%|██████████| 12/12 [00:16<00:00,  1.35s/it]\n"
          ]
        },
        {
          "output_type": "stream",
          "name": "stdout",
          "text": [
            "Average Validation Loss: 20155.3242\n"
          ]
        },
        {
          "output_type": "stream",
          "name": "stderr",
          "text": [
            "Epoch 5/60: 100%|██████████| 11/11 [00:34<00:00,  3.10s/it]\n"
          ]
        },
        {
          "output_type": "stream",
          "name": "stdout",
          "text": [
            "End of Epoch 5,Time: 34.10s, Current LR: 0.001000, Average Loss: 24288.4776\n"
          ]
        },
        {
          "output_type": "stream",
          "name": "stderr",
          "text": [
            "Epoch 5/60 [Validation]: 100%|██████████| 12/12 [00:15<00:00,  1.32s/it]\n"
          ]
        },
        {
          "output_type": "stream",
          "name": "stdout",
          "text": [
            "Average Validation Loss: 19749.7863\n"
          ]
        },
        {
          "output_type": "stream",
          "name": "stderr",
          "text": [
            "Epoch 6/60: 100%|██████████| 11/11 [00:33<00:00,  3.03s/it]\n"
          ]
        },
        {
          "output_type": "stream",
          "name": "stdout",
          "text": [
            "End of Epoch 6,Time: 33.39s, Current LR: 0.001000, Average Loss: 24152.2907\n"
          ]
        },
        {
          "output_type": "stream",
          "name": "stderr",
          "text": [
            "Epoch 6/60 [Validation]: 100%|██████████| 12/12 [00:16<00:00,  1.34s/it]\n"
          ]
        },
        {
          "output_type": "stream",
          "name": "stdout",
          "text": [
            "Average Validation Loss: 19844.2915\n"
          ]
        },
        {
          "output_type": "stream",
          "name": "stderr",
          "text": [
            "Epoch 7/60: 100%|██████████| 11/11 [00:34<00:00,  3.17s/it]\n"
          ]
        },
        {
          "output_type": "stream",
          "name": "stdout",
          "text": [
            "End of Epoch 7,Time: 34.89s, Current LR: 0.001000, Average Loss: 23967.5391\n"
          ]
        },
        {
          "output_type": "stream",
          "name": "stderr",
          "text": [
            "Epoch 7/60 [Validation]: 100%|██████████| 12/12 [00:16<00:00,  1.38s/it]\n"
          ]
        },
        {
          "output_type": "stream",
          "name": "stdout",
          "text": [
            "Average Validation Loss: 19367.0225\n"
          ]
        },
        {
          "output_type": "stream",
          "name": "stderr",
          "text": [
            "Epoch 8/60: 100%|██████████| 11/11 [00:36<00:00,  3.31s/it]\n"
          ]
        },
        {
          "output_type": "stream",
          "name": "stdout",
          "text": [
            "End of Epoch 8,Time: 36.44s, Current LR: 0.001000, Average Loss: 23483.5344\n"
          ]
        },
        {
          "output_type": "stream",
          "name": "stderr",
          "text": [
            "Epoch 8/60 [Validation]: 100%|██████████| 12/12 [00:17<00:00,  1.46s/it]\n"
          ]
        },
        {
          "output_type": "stream",
          "name": "stdout",
          "text": [
            "Average Validation Loss: 20456.0722\n"
          ]
        },
        {
          "output_type": "stream",
          "name": "stderr",
          "text": [
            "Epoch 9/60: 100%|██████████| 11/11 [00:34<00:00,  3.14s/it]\n"
          ]
        },
        {
          "output_type": "stream",
          "name": "stdout",
          "text": [
            "End of Epoch 9,Time: 34.56s, Current LR: 0.001000, Average Loss: 23414.9486\n"
          ]
        },
        {
          "output_type": "stream",
          "name": "stderr",
          "text": [
            "Epoch 9/60 [Validation]: 100%|██████████| 12/12 [00:16<00:00,  1.36s/it]\n"
          ]
        },
        {
          "output_type": "stream",
          "name": "stdout",
          "text": [
            "Average Validation Loss: 19490.9606\n"
          ]
        },
        {
          "output_type": "stream",
          "name": "stderr",
          "text": [
            "Epoch 10/60: 100%|██████████| 11/11 [00:35<00:00,  3.21s/it]\n"
          ]
        },
        {
          "output_type": "stream",
          "name": "stdout",
          "text": [
            "End of Epoch 10,Time: 35.31s, Current LR: 0.001000, Average Loss: 23102.4071\n"
          ]
        },
        {
          "output_type": "stream",
          "name": "stderr",
          "text": [
            "Epoch 10/60 [Validation]: 100%|██████████| 12/12 [00:16<00:00,  1.35s/it]\n"
          ]
        },
        {
          "output_type": "stream",
          "name": "stdout",
          "text": [
            "Average Validation Loss: 19588.9369\n"
          ]
        },
        {
          "output_type": "stream",
          "name": "stderr",
          "text": [
            "Epoch 11/60: 100%|██████████| 11/11 [00:34<00:00,  3.18s/it]\n"
          ]
        },
        {
          "output_type": "stream",
          "name": "stdout",
          "text": [
            "End of Epoch 11,Time: 34.97s, Current LR: 0.001000, Average Loss: 22678.6415\n"
          ]
        },
        {
          "output_type": "stream",
          "name": "stderr",
          "text": [
            "Epoch 11/60 [Validation]: 100%|██████████| 12/12 [00:15<00:00,  1.33s/it]\n"
          ]
        },
        {
          "output_type": "stream",
          "name": "stdout",
          "text": [
            "Average Validation Loss: 18611.4924\n",
            "Validation loss improved. Saving the model.\n"
          ]
        },
        {
          "output_type": "stream",
          "name": "stderr",
          "text": [
            "Epoch 12/60: 100%|██████████| 11/11 [00:34<00:00,  3.16s/it]\n"
          ]
        },
        {
          "output_type": "stream",
          "name": "stdout",
          "text": [
            "End of Epoch 12,Time: 34.72s, Current LR: 0.001000, Average Loss: 22835.8116\n"
          ]
        },
        {
          "output_type": "stream",
          "name": "stderr",
          "text": [
            "Epoch 12/60 [Validation]: 100%|██████████| 12/12 [00:16<00:00,  1.37s/it]\n"
          ]
        },
        {
          "output_type": "stream",
          "name": "stdout",
          "text": [
            "Average Validation Loss: 19877.1902\n"
          ]
        },
        {
          "output_type": "stream",
          "name": "stderr",
          "text": [
            "Epoch 13/60: 100%|██████████| 11/11 [00:36<00:00,  3.33s/it]\n"
          ]
        },
        {
          "output_type": "stream",
          "name": "stdout",
          "text": [
            "End of Epoch 13,Time: 36.59s, Current LR: 0.001000, Average Loss: 22363.4302\n"
          ]
        },
        {
          "output_type": "stream",
          "name": "stderr",
          "text": [
            "Epoch 13/60 [Validation]: 100%|██████████| 12/12 [00:16<00:00,  1.36s/it]\n"
          ]
        },
        {
          "output_type": "stream",
          "name": "stdout",
          "text": [
            "Average Validation Loss: 19041.5875\n"
          ]
        },
        {
          "output_type": "stream",
          "name": "stderr",
          "text": [
            "Epoch 14/60: 100%|██████████| 11/11 [00:34<00:00,  3.12s/it]\n"
          ]
        },
        {
          "output_type": "stream",
          "name": "stdout",
          "text": [
            "End of Epoch 14,Time: 34.35s, Current LR: 0.001000, Average Loss: 22292.6509\n"
          ]
        },
        {
          "output_type": "stream",
          "name": "stderr",
          "text": [
            "Epoch 14/60 [Validation]: 100%|██████████| 12/12 [00:16<00:00,  1.37s/it]\n"
          ]
        },
        {
          "output_type": "stream",
          "name": "stdout",
          "text": [
            "Average Validation Loss: 19102.0377\n"
          ]
        },
        {
          "output_type": "stream",
          "name": "stderr",
          "text": [
            "Epoch 15/60: 100%|██████████| 11/11 [00:33<00:00,  3.08s/it]\n"
          ]
        },
        {
          "output_type": "stream",
          "name": "stdout",
          "text": [
            "End of Epoch 15,Time: 33.88s, Current LR: 0.001000, Average Loss: 21969.1618\n"
          ]
        },
        {
          "output_type": "stream",
          "name": "stderr",
          "text": [
            "Epoch 15/60 [Validation]: 100%|██████████| 12/12 [00:16<00:00,  1.36s/it]\n"
          ]
        },
        {
          "output_type": "stream",
          "name": "stdout",
          "text": [
            "Average Validation Loss: 18422.2500\n",
            "Validation loss improved. Saving the model.\n"
          ]
        },
        {
          "output_type": "stream",
          "name": "stderr",
          "text": [
            "Epoch 16/60: 100%|██████████| 11/11 [00:35<00:00,  3.20s/it]\n"
          ]
        },
        {
          "output_type": "stream",
          "name": "stdout",
          "text": [
            "End of Epoch 16,Time: 35.23s, Current LR: 0.001000, Average Loss: 22355.8592\n"
          ]
        },
        {
          "output_type": "stream",
          "name": "stderr",
          "text": [
            "Epoch 16/60 [Validation]: 100%|██████████| 12/12 [00:15<00:00,  1.33s/it]\n"
          ]
        },
        {
          "output_type": "stream",
          "name": "stdout",
          "text": [
            "Average Validation Loss: 18793.0407\n"
          ]
        },
        {
          "output_type": "stream",
          "name": "stderr",
          "text": [
            "Epoch 17/60: 100%|██████████| 11/11 [00:35<00:00,  3.27s/it]\n"
          ]
        },
        {
          "output_type": "stream",
          "name": "stdout",
          "text": [
            "End of Epoch 17,Time: 35.95s, Current LR: 0.001000, Average Loss: 22156.9152\n"
          ]
        },
        {
          "output_type": "stream",
          "name": "stderr",
          "text": [
            "Epoch 17/60 [Validation]: 100%|██████████| 12/12 [00:16<00:00,  1.38s/it]\n"
          ]
        },
        {
          "output_type": "stream",
          "name": "stdout",
          "text": [
            "Average Validation Loss: 18236.5278\n",
            "Validation loss improved. Saving the model.\n"
          ]
        },
        {
          "output_type": "stream",
          "name": "stderr",
          "text": [
            "Epoch 18/60:  64%|██████▎   | 7/11 [00:24<00:13,  3.37s/it]"
          ]
        }
      ],
      "source": [
        "    # Run the training\n",
        "train_knowledge_distillation(\n",
        "    teacher=teacher_model,\n",
        "    student=student_model,\n",
        "    train_dataloader=train_dataloader,\n",
        "    val_dataloader=val_dataloader,\n",
        "    criterion=distillation_criterion,\n",
        "    optimizer=student_optimizer,\n",
        "    epochs=num_epochs,\n",
        "    device=device\n",
        ")\n",
        "\n",
        "print(\"Training complete. Student model saved at specified checkpoints.\")\n"
      ]
    },
    {
      "cell_type": "markdown",
      "metadata": {
        "id": "Q1FTq_gbcn5A"
      },
      "source": [
        "# Evaluation"
      ]
    },
    {
      "cell_type": "markdown",
      "metadata": {
        "id": "3mKm1aLPcn5A"
      },
      "source": [
        "### On training"
      ]
    },
    {
      "cell_type": "code",
      "execution_count": null,
      "metadata": {
        "id": "b6LTUiq0cn5A"
      },
      "outputs": [],
      "source": [
        "# Load image\n",
        "image_path = \"/content/drive/MyDrive/images/image1.JPG\"\n",
        "image = cv2.imread(image_path)\n",
        "image = cv2.cvtColor(image, cv2.COLOR_BGR2RGB)  # Convert to RGB\n",
        "\n",
        "input_tensor = eval_transform(Image.fromarray(image)).unsqueeze(0).to(device)\n",
        "\n",
        "# Set models to evaluation mode\n",
        "teacher_model.eval() # Use the DepthModel instance\n",
        "student_model.eval() # Use the DepthModel instance\n",
        "\n",
        "\n",
        "with torch.no_grad():\n",
        "    # Student prediction (before training) using the DepthModel instance\n",
        "    start_time = time.time()\n",
        "    student_output_after = student_model(input_tensor)\n",
        "    end_time = time.time()\n",
        "    inference_time_ms = (end_time - start_time) * 1000\n",
        "    print(f\"✅ Student model inference time: {inference_time_ms:.2f} ms\")\n",
        "\n",
        "    student_output_after_training = student_output_after.squeeze().cpu().numpy()\n",
        "\n",
        "    # Teacher prediction using the DepthModel instance\n",
        "    teacher_depth = teacher_model(input_tensor)\n",
        "    teacher_depth = teacher_depth.squeeze().cpu().numpy()\n",
        "\n",
        "# loss = distillation_criterion(student_output_after_training, teacher_depth)\n",
        "# print(loss.item())\n",
        "#Befor training\n",
        "plt.figure(figsize=(15, 5))\n",
        "\n",
        "# Original Image\n",
        "plt.subplot(1, 3, 1)\n",
        "plt.imshow(image)\n",
        "plt.title(\"Original Image\")\n",
        "plt.axis(\"off\")\n",
        "\n",
        "# Teacher Depth Map\n",
        "plt.subplot(1, 3, 2)\n",
        "plt.imshow(teacher_depth, cmap=\"viridis\")\n",
        "plt.title(\"Teacher Depth Estimation\")\n",
        "plt.axis(\"off\")\n",
        "\n",
        "# Student Depth Map\n",
        "plt.subplot(1, 3, 3)\n",
        "plt.imshow(student_depth_before_training_train_image, cmap=\"viridis\")\n",
        "plt.title(\"Student Depth Estimation (Before Training)\")\n",
        "plt.axis(\"off\")\n",
        "\n",
        "plt.show()\n",
        "\n",
        "#After training\n",
        "plt.figure(figsize=(15, 5))\n",
        "\n",
        "# Original Image\n",
        "plt.subplot(1, 3, 1)\n",
        "plt.imshow(image)\n",
        "plt.title(\"Original Image\")\n",
        "plt.axis(\"off\")\n",
        "\n",
        "# Teacher Depth Map\n",
        "plt.subplot(1, 3, 2)\n",
        "plt.imshow(teacher_depth, cmap=\"viridis\")\n",
        "plt.title(\"Teacher Depth Estimation\")\n",
        "plt.axis(\"off\")\n",
        "\n",
        "# Student Depth Map\n",
        "plt.subplot(1, 3, 3)\n",
        "plt.imshow(student_output_after_training, cmap=\"viridis\")\n",
        "plt.title(\"Student Depth Estimation (After Training)\")\n",
        "plt.axis(\"off\")\n",
        "\n",
        "plt.show()\n",
        "\n"
      ]
    },
    {
      "cell_type": "markdown",
      "metadata": {
        "id": "ke49l2PJcn5B"
      },
      "source": [
        "### On Testing"
      ]
    },
    {
      "cell_type": "code",
      "execution_count": null,
      "metadata": {
        "id": "eYtFeI1wcn5B"
      },
      "outputs": [],
      "source": [
        "# Load image\n",
        "image_path = \"/content/test.jpg\"\n",
        "image = cv2.imread(image_path)\n",
        "image = cv2.cvtColor(image, cv2.COLOR_BGR2RGB)  # Convert to RGB\n",
        "\n",
        "input_tensor = eval_transform(Image.fromarray(image)).unsqueeze(0).to(device)\n",
        "\n",
        "# Set models to evaluation mode\n",
        "teacher_model.eval() # Use the DepthModel instance\n",
        "student_model.eval() # Use the DepthModel instance\n",
        "\n",
        "loss = 0;\n",
        "with torch.no_grad():\n",
        "    # Student prediction (before training) using the DepthModel instance\n",
        "    student_output_after = student_model(input_tensor)\n",
        "    student_output_after_training = student_output_after.squeeze().cpu().numpy()\n",
        "\n",
        "    # Teacher prediction using the DepthModel instance\n",
        "    teacher_depth = teacher_model(input_tensor)\n",
        "    loss = distillation_criterion(student_output_after, teacher_depth)\n",
        "    teacher_depth = teacher_depth.squeeze().cpu().numpy()\n",
        "\n",
        "print(loss.item())\n",
        "#Befor training\n",
        "plt.figure(figsize=(15, 5))\n",
        "\n",
        "# Original Image\n",
        "plt.subplot(1, 3, 1)\n",
        "plt.imshow(image)\n",
        "plt.title(\"Original Image\")\n",
        "plt.axis(\"off\")\n",
        "\n",
        "# Teacher Depth Map\n",
        "plt.subplot(1, 3, 2)\n",
        "plt.imshow(teacher_depth, cmap=\"viridis\")\n",
        "plt.title(\"Teacher Depth Estimation\")\n",
        "plt.axis(\"off\")\n",
        "\n",
        "# Student Depth Map\n",
        "plt.subplot(1, 3, 3)\n",
        "plt.imshow(student_depth_before_training, cmap=\"viridis\")\n",
        "plt.title(\"Student Depth Estimation (Before Training)\")\n",
        "plt.axis(\"off\")\n",
        "\n",
        "plt.show()\n",
        "\n",
        "#After training\n",
        "plt.figure(figsize=(15, 5))\n",
        "\n",
        "# Original Image\n",
        "plt.subplot(1, 3, 1)\n",
        "plt.imshow(image)\n",
        "plt.title(\"Original Image\")\n",
        "plt.axis(\"off\")\n",
        "\n",
        "# Teacher Depth Map\n",
        "plt.subplot(1, 3, 2)\n",
        "plt.imshow(teacher_depth, cmap=\"viridis\")\n",
        "plt.title(\"Teacher Depth Estimation\")\n",
        "plt.axis(\"off\")\n",
        "\n",
        "# Student Depth Map\n",
        "plt.subplot(1, 3, 3)\n",
        "plt.imshow(student_output_after_training, cmap=\"viridis\")\n",
        "plt.title(\"Student Depth Estimation (After Training)\")\n",
        "plt.axis(\"off\")\n",
        "\n",
        "plt.show()"
      ]
    },
    {
      "cell_type": "markdown",
      "metadata": {
        "id": "4WlTfQQzcn5B"
      },
      "source": [
        "### Saving a CheckPoint"
      ]
    },
    {
      "cell_type": "code",
      "execution_count": null,
      "metadata": {
        "id": "gmSTPA_fcn5B"
      },
      "outputs": [],
      "source": [
        "torch.save(student_model, \"/content/drive/MyDrive/distillSkipL2500.pth\")"
      ]
    }
  ],
  "metadata": {
    "accelerator": "GPU",
    "colab": {
      "gpuType": "T4",
      "provenance": []
    },
    "kernelspec": {
      "display_name": "Python 3",
      "name": "python3"
    },
    "language_info": {
      "name": "python"
    }
  },
  "nbformat": 4,
  "nbformat_minor": 0
}